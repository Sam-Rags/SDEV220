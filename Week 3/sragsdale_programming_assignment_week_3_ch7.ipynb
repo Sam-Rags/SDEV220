{
 "cells": [
  {
   "cell_type": "code",
   "execution_count": null,
   "metadata": {},
   "outputs": [
    {
     "name": "stdout",
     "output_type": "stream",
     "text": [
      "['mozzarella', 'Cinderella', 'salmonella']\n",
      "['MOZZARELLA', 'Cinderella', 'salmonella']\n",
      "['MOZZARELLA', 'Cinderella']\n"
     ]
    }
   ],
   "source": [
    "'''\n",
    "Author: Samuel Ragsdale\n",
    "Date: 11/05/2024\n",
    "Assignments: 7.4 - 7.7 Week 3\n",
    "\n",
    "Below a simple example of list manipulation, this takes various elements from the list & modifies or in one case, removes them.\n",
    "\n",
    "7.4 Make a list called things with these three strings as elements: \"mozzarella\", \"cinderella\", \"salmonella\".\n",
    "\n",
    "7.5 Capitalize the element in things that refers to a person and then print the list. Did it change the element in the list?\n",
    "\n",
    "7.6 Make the cheesy element of things all uppercase and then print the list.\n",
    "\n",
    "7.7 Delete the disease element from things, collect your Nobel Prize, and print the list.'''\n",
    "\n",
    "#the list we're working with\n",
    "things = ['mozzarella', 'cinderella', 'salmonella']\n",
    "\n",
    "#takes the second element and Capitalizes it\n",
    "things[1] = things[1].capitalize()\n",
    "print(things)\n",
    "#takes the first element and converts it to all uppercase\n",
    "things[0] = things[0].upper()\n",
    "print(things)\n",
    "#takes the 3rd element and removes it from the list\n",
    "things.remove('salmonella')\n",
    "print(things)\n",
    "\n"
   ]
  }
 ],
 "metadata": {
  "kernelspec": {
   "display_name": "base",
   "language": "python",
   "name": "python3"
  },
  "language_info": {
   "codemirror_mode": {
    "name": "ipython",
    "version": 3
   },
   "file_extension": ".py",
   "mimetype": "text/x-python",
   "name": "python",
   "nbconvert_exporter": "python",
   "pygments_lexer": "ipython3",
   "version": "3.12.4"
  }
 },
 "nbformat": 4,
 "nbformat_minor": 2
}
