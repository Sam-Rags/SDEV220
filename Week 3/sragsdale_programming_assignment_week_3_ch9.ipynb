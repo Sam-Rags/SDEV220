{
 "cells": [
  {
   "cell_type": "code",
   "execution_count": 28,
   "metadata": {},
   "outputs": [
    {
     "name": "stdout",
     "output_type": "stream",
     "text": [
      "The third odd number is: 5\n"
     ]
    }
   ],
   "source": [
    "'''\n",
    "Author: Samuel Ragsdale\n",
    "Date: 11/05/2024\n",
    "Assignments: 9.1 - 9.2 Week 3\n",
    "\n",
    "9.1 Define a function called good() that returns the following list: ['Harry', 'Ron', 'Hermione'].\n",
    "\n",
    "9.2 Define a generator function called get_odds() that returns the odd numbers from range(10). Use a for loop to find and print the third value returned.'''\n",
    "\n",
    "def good():\n",
    "    return(['Harry', 'Ron', 'Herminoe'])\n",
    "\n",
    "good()\n",
    "\n",
    "def get_odds():\n",
    "    for number in range(1, 10, 2):\n",
    "        yield number\n",
    "\n",
    "count = 1\n",
    "for number in get_odds():\n",
    "    if count == 3:\n",
    "        print(\"The third odd number is:\", number)\n",
    "        break\n",
    "    count += 1\n",
    "\n",
    "\n"
   ]
  }
 ],
 "metadata": {
  "kernelspec": {
   "display_name": "base",
   "language": "python",
   "name": "python3"
  },
  "language_info": {
   "codemirror_mode": {
    "name": "ipython",
    "version": 3
   },
   "file_extension": ".py",
   "mimetype": "text/x-python",
   "name": "python",
   "nbconvert_exporter": "python",
   "pygments_lexer": "ipython3",
   "version": "3.12.4"
  }
 },
 "nbformat": 4,
 "nbformat_minor": 2
}
