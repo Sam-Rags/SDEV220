{
 "cells": [
  {
   "cell_type": "code",
   "execution_count": null,
   "id": "24399b39-ad70-4b0a-b37c-550f1dd5fe7f",
   "metadata": {},
   "outputs": [],
   "source": [
    "'''\n",
    "Author: Samuel Ragsdale\n",
    "Date written: October 29, 2024\n",
    "Description: 6.1 Use a for loop to print the values of the list [3, 2, 1, 0].\n",
    "\n",
    "6.2 Assign the value 7 to the variable guess_me, and the value 1 to the variable number. \n",
    "Write a while loop that compares number with guess_me. Print 'too low' if number is less than guess me. \n",
    "If number equals guess_me, print 'found it!' and then exit the loop. If number is greater than guess_me, print 'oops' and then exit the loop. \n",
    "Increment number at the end of the loop.\n",
    "\n",
    "6.3 Assign the value 5 to the variable guess_me. \n",
    "Use a for loop to iterate a variable called number over range(10). \n",
    "If number is less than guess_me, print 'too low'. If it equals guess_me, print found it! and then break out of the for loop. \n",
    "If number is greater than guess_me, print 'oops' and then exit the loop.\n",
    "'''\n",
    "#6.1 below\n",
    "list = [3, 2, 1, 0]\n",
    "\n",
    "for n in list:\n",
    "    print(n)\n",
    "    \n",
    "\n",
    "#6.2 below\n",
    "guess_me = 7\n",
    "number = 1\n",
    "\n",
    "while number <= guess_me:\n",
    "    if number < guess_me:\n",
    "        print(\"too low\")\n",
    "        number += 1\n",
    "    elif number == guess_me:\n",
    "        print(\"found it!\")\n",
    "        break\n",
    "    else:\n",
    "        print(\"oops\")\n",
    "        break\n",
    "\n",
    "\n",
    "#6.3 below\n",
    "guess_me = 5\n",
    "\n",
    "for number in range(10):\n",
    "    if number < guess_me:\n",
    "        print(\"too low\")\n",
    "    elif number == guess_me:\n",
    "        print(\"found it!\")\n",
    "        break\n",
    "    else:\n",
    "        print(\"oops!\")\n",
    "        break"
   ]
  }
 ],
 "metadata": {
  "kernelspec": {
   "display_name": "Python 3 (ipykernel)",
   "language": "python",
   "name": "python3"
  },
  "language_info": {
   "codemirror_mode": {
    "name": "ipython",
    "version": 3
   },
   "file_extension": ".py",
   "mimetype": "text/x-python",
   "name": "python",
   "nbconvert_exporter": "python",
   "pygments_lexer": "ipython3",
   "version": "3.12.4"
  }
 },
 "nbformat": 4,
 "nbformat_minor": 5
}
